{
 "cells": [
  {
   "cell_type": "markdown",
   "metadata": {},
   "source": [
    "https://pynative.com/python-basic-exercise-for-beginners/"
   ]
  },
  {
   "cell_type": "markdown",
   "metadata": {},
   "source": [
    "# Librairies"
   ]
  },
  {
   "cell_type": "code",
   "execution_count": 82,
   "metadata": {},
   "outputs": [
    {
     "ename": "ModuleNotFoundError",
     "evalue": "No module named 'pandas'",
     "output_type": "error",
     "traceback": [
      "\u001b[0;31m---------------------------------------------------------------------------\u001b[0m",
      "\u001b[0;31mModuleNotFoundError\u001b[0m                       Traceback (most recent call last)",
      "Cell \u001b[0;32mIn [82], line 1\u001b[0m\n\u001b[0;32m----> 1\u001b[0m \u001b[38;5;28;01mimport\u001b[39;00m \u001b[38;5;21;01mpandas\u001b[39;00m \u001b[38;5;28;01mas\u001b[39;00m \u001b[38;5;21;01mpd\u001b[39;00m\n\u001b[1;32m      2\u001b[0m \u001b[38;5;28;01mimport\u001b[39;00m \u001b[38;5;21;01mnumpy\u001b[39;00m \u001b[38;5;28;01mas\u001b[39;00m \u001b[38;5;21;01mnp\u001b[39;00m\n\u001b[1;32m      3\u001b[0m \u001b[38;5;28;01mimport\u001b[39;00m \u001b[38;5;21;01mdatetime\u001b[39;00m\n",
      "\u001b[0;31mModuleNotFoundError\u001b[0m: No module named 'pandas'"
     ]
    }
   ],
   "source": [
    "import pandas as pd\n",
    "import numpy as np\n",
    "import datetime\n",
    "import random"
   ]
  },
  {
   "cell_type": "markdown",
   "metadata": {},
   "source": [
    "# Basic Exercices"
   ]
  },
  {
   "cell_type": "markdown",
   "metadata": {},
   "source": [
    "## Variable"
   ]
  },
  {
   "cell_type": "code",
   "execution_count": 1,
   "metadata": {},
   "outputs": [
    {
     "data": {
      "text/plain": [
       "True"
      ]
     },
     "execution_count": 1,
     "metadata": {},
     "output_type": "execute_result"
    }
   ],
   "source": [
    "# Change only x to make it True !\n",
    "x = 26\n",
    "y = 12\n",
    "\n",
    "x + y / 2 + 20 * -1 == 12 "
   ]
  },
  {
   "cell_type": "code",
   "execution_count": 2,
   "metadata": {},
   "outputs": [
    {
     "data": {
      "text/plain": [
       "26"
      ]
     },
     "execution_count": 2,
     "metadata": {},
     "output_type": "execute_result"
    }
   ],
   "source": [
    "x"
   ]
  },
  {
   "cell_type": "code",
   "execution_count": null,
   "metadata": {},
   "outputs": [],
   "source": []
  },
  {
   "cell_type": "markdown",
   "metadata": {},
   "source": [
    "## Cast"
   ]
  },
  {
   "cell_type": "code",
   "execution_count": 10,
   "metadata": {},
   "outputs": [
    {
     "data": {
      "text/plain": [
       "'The number 10 scores'"
      ]
     },
     "execution_count": 10,
     "metadata": {},
     "output_type": "execute_result"
    }
   ],
   "source": [
    "# Write a sentance only with those variables\n",
    "\n",
    "string_1 = 'The number '\n",
    "int_1 = 10\n",
    "string_2 = ' scores'\n",
    "output_str = string_1 + str(int_1)+ string_2\n",
    "\n",
    "## code ##\n",
    "\n",
    "output_str "
   ]
  },
  {
   "cell_type": "markdown",
   "metadata": {},
   "source": [
    "## Lists"
   ]
  },
  {
   "cell_type": "code",
   "execution_count": 14,
   "metadata": {},
   "outputs": [
    {
     "data": {
      "text/plain": [
       "10"
      ]
     },
     "execution_count": 14,
     "metadata": {},
     "output_type": "execute_result"
    }
   ],
   "source": [
    "# find the most high values\n",
    "\n",
    "my_list = [1, 2, 3, 10]\n",
    "ouput = max(my_list)\n",
    "#output = min(my_list)*max(my_list)\n",
    "## code ##\n",
    "\n",
    "ouput"
   ]
  },
  {
   "cell_type": "markdown",
   "metadata": {},
   "source": [
    "## Strings"
   ]
  },
  {
   "cell_type": "code",
   "execution_count": 25,
   "metadata": {},
   "outputs": [
    {
     "data": {
      "text/plain": [
       "'cnds r my bst frnds'"
      ]
     },
     "execution_count": 25,
     "metadata": {},
     "output_type": "execute_result"
    }
   ],
   "source": [
    "# Remove Vowels from a String\n",
    "def anti_vowel(c):\n",
    "    newstr = c\n",
    "    vowels = ('a', 'e', 'i', 'o', 'u')\n",
    "    for x in c.lower():\n",
    "        if x in vowels:\n",
    "            newstr = newstr.replace(x,\"\")\n",
    "    return newstr\n",
    "\n",
    "input_str = \"candies are my best friends\"\n",
    "vowels = \"aeiouAEIOU\"\n",
    "output_str = anti_vowel(input_str)\n",
    "\n",
    "output_str"
   ]
  },
  {
   "cell_type": "markdown",
   "metadata": {},
   "source": [
    "## Datetime package"
   ]
  },
  {
   "cell_type": "code",
   "execution_count": 44,
   "metadata": {},
   "outputs": [
    {
     "name": "stdout",
     "output_type": "stream",
     "text": [
      "2020-01-01 00:00:00\n",
      "2020-04-12 00:00:00\n",
      "NIGHT FEVER\n",
      "2020-03-09 00:00:00\n",
      "2020-08-03 00:00:00\n"
     ]
    }
   ],
   "source": [
    "# Display \"NIGHT FEVER !\" if one of thoses dates is a Sunday else \"...\"\n",
    "import datetime\n",
    "\n",
    "my_dates = [\n",
    "    datetime.datetime(2020, 1, 1),\n",
    "    datetime.datetime(2020, 4, 12),\n",
    "    datetime.datetime(2020, 3, 9),\n",
    "    datetime.datetime(2020, 8, 3),\n",
    "]\n",
    "text = \"NIGHT FEVER\"    \n",
    "for date in my_dates:\n",
    "    print(date)\n",
    "    if date.weekday() == 6:\n",
    "        print(text)\n",
    "    "
   ]
  },
  {
   "cell_type": "markdown",
   "metadata": {},
   "source": [
    "## Dictionaries"
   ]
  },
  {
   "cell_type": "code",
   "execution_count": 135,
   "metadata": {},
   "outputs": [
    {
     "data": {
      "text/plain": [
       "{'Housem': 12, 'Alexandre': 9, 'Lucas': 11, 'Dani': 8}"
      ]
     },
     "execution_count": 135,
     "metadata": {},
     "output_type": "execute_result"
    }
   ],
   "source": [
    "input_dictionary = {\n",
    "    'Housem': 12,\n",
    "    'Alexandre': 9,\n",
    "    'Lucas': 11,\n",
    "    'Dani': 8,\n",
    "}\n",
    "\n",
    "input_dictionary"
   ]
  },
  {
   "cell_type": "code",
   "execution_count": 55,
   "metadata": {},
   "outputs": [
    {
     "data": {
      "text/plain": [
       "38"
      ]
     },
     "execution_count": 55,
     "metadata": {},
     "output_type": "execute_result"
    }
   ],
   "source": [
    "# How many candies those Kids have ?\n",
    "input_dictionary = {\n",
    "    'Housem': 10,\n",
    "    'Alexandre': 9,\n",
    "    'Lucas': 11,\n",
    "    'Dani': 8,\n",
    "}\n",
    "sum = 0\n",
    "for k, v in input_dictionary.items():\n",
    "       sum += v\n",
    "output_candies = sum\n",
    "\n",
    "output_candies"
   ]
  },
  {
   "cell_type": "markdown",
   "metadata": {},
   "source": [
    "## Functions"
   ]
  },
  {
   "cell_type": "code",
   "execution_count": 139,
   "metadata": {},
   "outputs": [
    {
     "data": {
      "text/plain": [
       "'Housem'"
      ]
     },
     "execution_count": 139,
     "metadata": {},
     "output_type": "execute_result"
    }
   ],
   "source": [
    "## Who has the most candies ?\n",
    "\n",
    "def get_kids_having_the_most_candies(input_dictionary):\n",
    "    return 0\n",
    "\n",
    "input_dictionary = {\n",
    "    'Housem': 12,\n",
    "    'Alexandre': 9,\n",
    "    'Lucas': 11,\n",
    "    'Dani': 8,\n",
    "}\n",
    "\n",
    "get_kids_having_the_most_candies(input_dictionary)"
   ]
  },
  {
   "cell_type": "code",
   "execution_count": 64,
   "metadata": {},
   "outputs": [
    {
     "name": "stdout",
     "output_type": "stream",
     "text": [
      "Housem 12\n",
      "Dani 8\n"
     ]
    },
    {
     "data": {
      "text/plain": [
       "0"
      ]
     },
     "execution_count": 64,
     "metadata": {},
     "output_type": "execute_result"
    }
   ],
   "source": [
    "## Who has a pair number of candies ?\n",
    "\n",
    "def get_kids_having_pair_number_candies(input_dictionary):\n",
    "    for k, v in input_dictionary.items():\n",
    "        if v % 2 == 0: \n",
    "            print(k,v)\n",
    "    return 0\n",
    "\n",
    "input_dictionary = {\n",
    "    'Housem': 12,\n",
    "    'Alexandre': 9,\n",
    "    'Lucas': 11,\n",
    "    'Dani': 8,\n",
    "}\n",
    "\n",
    "get_kids_having_pair_number_candies(input_dictionary)"
   ]
  },
  {
   "cell_type": "code",
   "execution_count": 74,
   "metadata": {},
   "outputs": [
    {
     "name": "stdout",
     "output_type": "stream",
     "text": [
      "Housem\n",
      "Lucas\n"
     ]
    }
   ],
   "source": [
    "## Who has too much candies ?\n",
    "\n",
    "def get_kids_having_too_much_candies(input_dictionary, too_much_value):\n",
    "    #maximum = max(input_dictionary.items())\n",
    "    #print(maximum)\n",
    "    for k, v in input_dictionary.items():\n",
    "        if v > too_much_value:\n",
    "            print (k)\n",
    "\n",
    "input_dictionary = {\n",
    "    'Housem': 10,\n",
    "    'Alexandre': 9,\n",
    "    'Lucas': 11,\n",
    "    'Dani': 8,\n",
    "}\n",
    "\n",
    "too_much_value = 9\n",
    "get_kids_having_too_much_candies(input_dictionary, too_much_value)\n",
    "#done"
   ]
  },
  {
   "cell_type": "code",
   "execution_count": 163,
   "metadata": {},
   "outputs": [
    {
     "ename": "AttributeError",
     "evalue": "'Series' object has no attribute 'value_counter'",
     "output_type": "error",
     "traceback": [
      "\u001b[0;31m---------------------------------------------------------------------------\u001b[0m",
      "\u001b[0;31mAttributeError\u001b[0m                            Traceback (most recent call last)",
      "Cell \u001b[0;32mIn [163], line 22\u001b[0m\n\u001b[1;32m     18\u001b[0m random_list \u001b[38;5;241m=\u001b[39m [random\u001b[38;5;241m.\u001b[39mrandint(\u001b[38;5;241m0\u001b[39m, \u001b[38;5;241m10\u001b[39m) \u001b[38;5;28;01mfor\u001b[39;00m i \u001b[38;5;129;01min\u001b[39;00m \u001b[38;5;28mrange\u001b[39m(\u001b[38;5;241m10000\u001b[39m)]\n\u001b[1;32m     20\u001b[0m \u001b[38;5;66;03m#print(most_frequent(my_list))\u001b[39;00m\n\u001b[1;32m     21\u001b[0m \u001b[38;5;66;03m#print(most_frequent(random_list))\u001b[39;00m\n\u001b[0;32m---> 22\u001b[0m \u001b[38;5;28mprint\u001b[39m(\u001b[43mpd\u001b[49m\u001b[38;5;241;43m.\u001b[39;49m\u001b[43mSeries\u001b[49m\u001b[43m(\u001b[49m\u001b[43mrandom_list\u001b[49m\u001b[43m)\u001b[49m\u001b[38;5;241;43m.\u001b[39;49m\u001b[43mvalue_counter\u001b[49m()\u001b[38;5;241m.\u001b[39mhead(\u001b[38;5;241m1\u001b[39m))\n",
      "File \u001b[0;32m~/.pyenv/versions/3.10.1/lib/python3.10/site-packages/pandas/core/generic.py:5575\u001b[0m, in \u001b[0;36mNDFrame.__getattr__\u001b[0;34m(self, name)\u001b[0m\n\u001b[1;32m   5568\u001b[0m \u001b[38;5;28;01mif\u001b[39;00m (\n\u001b[1;32m   5569\u001b[0m     name \u001b[38;5;129;01mnot\u001b[39;00m \u001b[38;5;129;01min\u001b[39;00m \u001b[38;5;28mself\u001b[39m\u001b[38;5;241m.\u001b[39m_internal_names_set\n\u001b[1;32m   5570\u001b[0m     \u001b[38;5;129;01mand\u001b[39;00m name \u001b[38;5;129;01mnot\u001b[39;00m \u001b[38;5;129;01min\u001b[39;00m \u001b[38;5;28mself\u001b[39m\u001b[38;5;241m.\u001b[39m_metadata\n\u001b[1;32m   5571\u001b[0m     \u001b[38;5;129;01mand\u001b[39;00m name \u001b[38;5;129;01mnot\u001b[39;00m \u001b[38;5;129;01min\u001b[39;00m \u001b[38;5;28mself\u001b[39m\u001b[38;5;241m.\u001b[39m_accessors\n\u001b[1;32m   5572\u001b[0m     \u001b[38;5;129;01mand\u001b[39;00m \u001b[38;5;28mself\u001b[39m\u001b[38;5;241m.\u001b[39m_info_axis\u001b[38;5;241m.\u001b[39m_can_hold_identifiers_and_holds_name(name)\n\u001b[1;32m   5573\u001b[0m ):\n\u001b[1;32m   5574\u001b[0m     \u001b[38;5;28;01mreturn\u001b[39;00m \u001b[38;5;28mself\u001b[39m[name]\n\u001b[0;32m-> 5575\u001b[0m \u001b[38;5;28;01mreturn\u001b[39;00m \u001b[38;5;28;43mobject\u001b[39;49m\u001b[38;5;241;43m.\u001b[39;49m\u001b[38;5;21;43m__getattribute__\u001b[39;49m\u001b[43m(\u001b[49m\u001b[38;5;28;43mself\u001b[39;49m\u001b[43m,\u001b[49m\u001b[43m \u001b[49m\u001b[43mname\u001b[49m\u001b[43m)\u001b[49m\n",
      "\u001b[0;31mAttributeError\u001b[0m: 'Series' object has no attribute 'value_counter'"
     ]
    }
   ],
   "source": [
    "# find the most recurrent element\n",
    "import pandas as pd\n",
    "import random\n",
    "\n",
    "def most_frequent(List):\n",
    "    counter = 0\n",
    "    num = List[0]\n",
    "     \n",
    "    for i in List:\n",
    "        curr_frequency = List.count(i)\n",
    "        if(curr_frequency > counter):\n",
    "            counter = curr_frequency\n",
    "            num = i\n",
    " \n",
    "    return num\n",
    "\n",
    "my_list = [1, 1, 3, 2, 7, 8, 10, 10, 10]\n",
    "random_list = [random.randint(0, 10) for i in range(10000)]\n",
    "\n",
    "#print(most_frequent(my_list))\n",
    "#print(most_frequent(random_list))\n",
    "print(pd.Series(random_list).value_counter().head(1))"
   ]
  },
  {
   "cell_type": "markdown",
   "metadata": {},
   "source": [
    "## Classes"
   ]
  },
  {
   "cell_type": "code",
   "execution_count": 155,
   "metadata": {},
   "outputs": [],
   "source": [
    "def get_age(birth_date):\n",
    "    from datetime import date\n",
    "    def age(birthdate):\n",
    "        today = date.today()\n",
    "        age = today.year - birthdate.year - ((today.month, today.day) < (birthdate.month, birthdate.day))\n",
    "    return age"
   ]
  },
  {
   "cell_type": "code",
   "execution_count": 182,
   "metadata": {},
   "outputs": [
    {
     "name": "stdout",
     "output_type": "stream",
     "text": [
      "Zidane\n"
     ]
    }
   ],
   "source": [
    "######\n",
    "# Q1 #\n",
    "######\n",
    "# Create a class Physician with 4 attributes you could guess in functions of constructor\n",
    "# And two other attributes churned_date and number_consultations with default values None and 0\n",
    "# Use the object in order to display his name\n",
    "\n",
    "######\n",
    "# Q2 #\n",
    "######\n",
    "# Create 3 new physicians in your hospital (list)\n",
    "# Make them consult different (random) times\n",
    "# Create a function displaying the name of those who are 30 or younger\n",
    "\n",
    "######\n",
    "# Q3 #\n",
    "######\n",
    "# Create a method to return physician data\n",
    "# How much does your hopsital earns today ?\n",
    "\n",
    "\n",
    "class Physician:\n",
    "    def __init__(self, name, address, birth_date, consultation_price):\n",
    "        self.name = name\n",
    "        self.address = address\n",
    "        self.birth_date = birth_date\n",
    "        self.consultation_price = consultation_price\n",
    "\n",
    "        self.age = get_age(birth_date)\n",
    "        self.churned_date = None #last day at job\n",
    "        self.number_consultations = 0\n",
    "    \n",
    "    def has_consulted(self):\n",
    "        self.number_consultations += 1\n",
    "    \n",
    "    def show_name(self):\n",
    "        print(self.name)\n",
    "        \n",
    "    def is_young(self):\n",
    "        if(datetime.datetime.now() - self.birth_date).days / 365 < 30:\n",
    "            print(self.name)\n",
    "    \n",
    "    def get_data(self):\n",
    "        return {\n",
    "            'name': self.name,\n",
    "            'consultation_price':self.consultation_price,\n",
    "            'churned_date':self.churned_date,\n",
    "            'number_consultations':self.number_consultations,\n",
    "        }\n",
    "    \n",
    "dr_zidane = Physician(\n",
    "    name = 'Zidane', \n",
    "    address = \"Paris\", \n",
    "    birth_date = datetime.datetime(1972, 7, 23),\n",
    "    consultation_price = 25,\n",
    ")\n",
    "\n",
    "dr_house = Physician(\n",
    "    name = 'Mr House', \n",
    "    address = \"Seatle\", \n",
    "    birth_date = datetime.datetime(1988, 5, 16),\n",
    "    consultation_price = 32,\n",
    ")\n",
    "\n",
    "dr_grey = Physician(\n",
    "    name = 'Meredith Grey', \n",
    "    address = \"Seatle\", \n",
    "    birth_date = datetime.datetime(1970, 3, 12),\n",
    "    consultation_price = 180,\n",
    ")\n",
    "#1 task\n",
    "#print(dr_zidane.name)a\n",
    "dr_zidane.show_name()"
   ]
  },
  {
   "cell_type": "code",
   "execution_count": 174,
   "metadata": {},
   "outputs": [],
   "source": [
    "hospitals = [\n",
    "    dr_zidane, dr_house, dr_grey\n",
    "]"
   ]
  },
  {
   "cell_type": "code",
   "execution_count": 114,
   "metadata": {},
   "outputs": [
    {
     "data": {
      "text/plain": [
       "0"
      ]
     },
     "execution_count": 114,
     "metadata": {},
     "output_type": "execute_result"
    }
   ],
   "source": [
    "dr_zidane.number_consultations"
   ]
  },
  {
   "cell_type": "code",
   "execution_count": 123,
   "metadata": {},
   "outputs": [],
   "source": [
    "dr_zidane.has_consulted()"
   ]
  },
  {
   "cell_type": "code",
   "execution_count": 124,
   "metadata": {},
   "outputs": [
    {
     "data": {
      "text/plain": [
       "4"
      ]
     },
     "execution_count": 124,
     "metadata": {},
     "output_type": "execute_result"
    }
   ],
   "source": [
    "dr_zidane.number_consultations"
   ]
  },
  {
   "cell_type": "code",
   "execution_count": 178,
   "metadata": {},
   "outputs": [
    {
     "name": "stdout",
     "output_type": "stream",
     "text": [
      "Mr House will consult 0 times\n",
      "145\n",
      "Meredith Grey will consult 8 times\n",
      "153\n",
      "Zidane will consult 2 times\n",
      "147\n"
     ]
    }
   ],
   "source": [
    "import random\n",
    "#random_list = [random.randint(0, 10) for i in range(100)]\n",
    "\n",
    "#doctor = dr_house\n",
    "\n",
    "def docs_count_consult(doctor):\n",
    "    random_numb = random.randint(0, 100)\n",
    "    print(doctor.name,'will consult', random_numb, 'times')\n",
    "    for i in range(random_numb):\n",
    "        doctor.has_consulted()\n",
    "\n",
    "doctor = dr_house\n",
    "docs_count_consult(doctor)\n",
    "print(doctor.number_consultations)\n",
    "\n",
    "doctor = dr_grey\n",
    "docs_count_consult(doctor)\n",
    "print(doctor.number_consultations)\n",
    "\n",
    "doctor = dr_zidane\n",
    "docs_count_consult(doctor)\n",
    "print(doctor.number_consultations)\n",
    "# for doctor in hospitals:       \n",
    "#     docs_count_consult(doctor)\n",
    "#     print(doctor.number_consultations)"
   ]
  },
  {
   "cell_type": "code",
   "execution_count": 176,
   "metadata": {
    "scrolled": true
   },
   "outputs": [],
   "source": [
    "dr_grey.is_young()"
   ]
  },
  {
   "cell_type": "code",
   "execution_count": 183,
   "metadata": {},
   "outputs": [
    {
     "data": {
      "text/plain": [
       "{'name': 'Meredith Grey',\n",
       " 'consultation_price': 180,\n",
       " 'churned_date': None,\n",
       " 'number_consultations': 0}"
      ]
     },
     "execution_count": 183,
     "metadata": {},
     "output_type": "execute_result"
    }
   ],
   "source": [
    "dr_grey.get_data()"
   ]
  },
  {
   "cell_type": "code",
   "execution_count": 186,
   "metadata": {},
   "outputs": [
    {
     "data": {
      "text/html": [
       "<div>\n",
       "<style scoped>\n",
       "    .dataframe tbody tr th:only-of-type {\n",
       "        vertical-align: middle;\n",
       "    }\n",
       "\n",
       "    .dataframe tbody tr th {\n",
       "        vertical-align: top;\n",
       "    }\n",
       "\n",
       "    .dataframe thead th {\n",
       "        text-align: right;\n",
       "    }\n",
       "</style>\n",
       "<table border=\"1\" class=\"dataframe\">\n",
       "  <thead>\n",
       "    <tr style=\"text-align: right;\">\n",
       "      <th></th>\n",
       "      <th>name</th>\n",
       "      <th>address</th>\n",
       "      <th>birth_date</th>\n",
       "      <th>consultation_price</th>\n",
       "      <th>churned_date</th>\n",
       "      <th>number_consultations</th>\n",
       "    </tr>\n",
       "  </thead>\n",
       "  <tbody>\n",
       "    <tr>\n",
       "      <th>0</th>\n",
       "      <td>Zidane</td>\n",
       "      <td>Paris</td>\n",
       "      <td>1972-07-23</td>\n",
       "      <td>25</td>\n",
       "      <td>None</td>\n",
       "      <td>147</td>\n",
       "    </tr>\n",
       "    <tr>\n",
       "      <th>1</th>\n",
       "      <td>Mr House</td>\n",
       "      <td>Seatle</td>\n",
       "      <td>1988-05-16</td>\n",
       "      <td>32</td>\n",
       "      <td>None</td>\n",
       "      <td>145</td>\n",
       "    </tr>\n",
       "    <tr>\n",
       "      <th>2</th>\n",
       "      <td>Meredith Grey</td>\n",
       "      <td>Seatle</td>\n",
       "      <td>1970-03-12</td>\n",
       "      <td>180</td>\n",
       "      <td>None</td>\n",
       "      <td>153</td>\n",
       "    </tr>\n",
       "  </tbody>\n",
       "</table>\n",
       "</div>"
      ],
      "text/plain": [
       "            name address birth_date  consultation_price churned_date  \\\n",
       "0         Zidane   Paris 1972-07-23                  25         None   \n",
       "1       Mr House  Seatle 1988-05-16                  32         None   \n",
       "2  Meredith Grey  Seatle 1970-03-12                 180         None   \n",
       "\n",
       "   number_consultations  \n",
       "0                   147  \n",
       "1                   145  \n",
       "2                   153  "
      ]
     },
     "execution_count": 186,
     "metadata": {},
     "output_type": "execute_result"
    }
   ],
   "source": [
    "df = pd.DataFrame.from_records([\n",
    "    doctor.get_data() for doctor in hospitals\n",
    "])\n",
    "df"
   ]
  },
  {
   "cell_type": "code",
   "execution_count": 194,
   "metadata": {},
   "outputs": [
    {
     "data": {
      "text/html": [
       "<div>\n",
       "<style scoped>\n",
       "    .dataframe tbody tr th:only-of-type {\n",
       "        vertical-align: middle;\n",
       "    }\n",
       "\n",
       "    .dataframe tbody tr th {\n",
       "        vertical-align: top;\n",
       "    }\n",
       "\n",
       "    .dataframe thead th {\n",
       "        text-align: right;\n",
       "    }\n",
       "</style>\n",
       "<table border=\"1\" class=\"dataframe\">\n",
       "  <thead>\n",
       "    <tr style=\"text-align: right;\">\n",
       "      <th></th>\n",
       "      <th>name</th>\n",
       "      <th>address</th>\n",
       "      <th>birth_date</th>\n",
       "      <th>consultation_price</th>\n",
       "      <th>churned_date</th>\n",
       "      <th>number_consultations</th>\n",
       "      <th>revenues</th>\n",
       "    </tr>\n",
       "  </thead>\n",
       "  <tbody>\n",
       "    <tr>\n",
       "      <th>0</th>\n",
       "      <td>Zidane</td>\n",
       "      <td>Paris</td>\n",
       "      <td>1972-07-23</td>\n",
       "      <td>25</td>\n",
       "      <td>None</td>\n",
       "      <td>147</td>\n",
       "      <td>3675</td>\n",
       "    </tr>\n",
       "    <tr>\n",
       "      <th>1</th>\n",
       "      <td>Mr House</td>\n",
       "      <td>Seatle</td>\n",
       "      <td>1988-05-16</td>\n",
       "      <td>32</td>\n",
       "      <td>None</td>\n",
       "      <td>145</td>\n",
       "      <td>4640</td>\n",
       "    </tr>\n",
       "    <tr>\n",
       "      <th>2</th>\n",
       "      <td>Meredith Grey</td>\n",
       "      <td>Seatle</td>\n",
       "      <td>1970-03-12</td>\n",
       "      <td>180</td>\n",
       "      <td>None</td>\n",
       "      <td>153</td>\n",
       "      <td>27540</td>\n",
       "    </tr>\n",
       "  </tbody>\n",
       "</table>\n",
       "</div>"
      ],
      "text/plain": [
       "            name address birth_date  consultation_price churned_date  \\\n",
       "0         Zidane   Paris 1972-07-23                  25         None   \n",
       "1       Mr House  Seatle 1988-05-16                  32         None   \n",
       "2  Meredith Grey  Seatle 1970-03-12                 180         None   \n",
       "\n",
       "   number_consultations  revenues  \n",
       "0                   147      3675  \n",
       "1                   145      4640  \n",
       "2                   153     27540  "
      ]
     },
     "execution_count": 194,
     "metadata": {},
     "output_type": "execute_result"
    }
   ],
   "source": [
    "df['revenues'] = df['consultation_price'] * df['number_consultations']\n",
    "df\n"
   ]
  },
  {
   "cell_type": "code",
   "execution_count": 196,
   "metadata": {},
   "outputs": [
    {
     "name": "stdout",
     "output_type": "stream",
     "text": [
      "hospital revenues today was 35855\n"
     ]
    }
   ],
   "source": [
    "hospital_revenue = df['revenues'].sum()\n",
    "print('hospital revenues today was', hospital_revenue)"
   ]
  },
  {
   "cell_type": "markdown",
   "metadata": {},
   "source": [
    "# First ETL"
   ]
  },
  {
   "cell_type": "code",
   "execution_count": 218,
   "metadata": {},
   "outputs": [
    {
     "data": {
      "text/plain": [
       "{'name': 'Macron',\n",
       " 'gender': 'M',\n",
       " 'adress': ' 18 rue de pont neuf 06008',\n",
       " 'counsultatiom_price': 25,\n",
       " 'number_consultations': 0}"
      ]
     },
     "execution_count": 218,
     "metadata": {},
     "output_type": "execute_result"
    }
   ],
   "source": [
    "# Create a Doctr constructor taking as argument a registration form with same template as\n",
    "# 'Mr Pierre - birthdate 1981/07/26 - 18 rue de pont neuf 06008'\n",
    "# And default attributes gender, name, birthdate, address, consultation_price, number_consultation\n",
    "# Create a data_extracting_method to assign for each argument data from registration_form\n",
    "# In data_extracting_method, set random consultation_price between 50 and 100 \n",
    "# Create a method has_just_consulted which increase by 1 the number_consultation attribute\n",
    "# Create a method return_data_cleaned which return a dictionnary of doctor attributes\n",
    "# Create 4 physicians and make them consult a random number of times\n",
    "# Use return_data_cleaned to create a hospital dataframe \n",
    "\n",
    "class Doctor():\n",
    "    def __init__(self, registration_form):\n",
    "        self.registration_form = registration_form\n",
    "        self.gender = None\n",
    "        self.name = None\n",
    "        self.birthday = None\n",
    "        self.number_consultations = 0\n",
    "        adress = None\n",
    "       \n",
    "    def data_extracting(self):\n",
    "        self.gender = 'M' if self.registration_form.split(' ')[0] == 'Mr' else 'F'\n",
    "        self.name = self.registration_form.split(' ')[1]\n",
    "        self.brthdate = self.registration_form.split('-')[1].split(' ')[2]\n",
    "        self.adress = self.registration_form.split('-')[-1]\n",
    "        \n",
    "    def set_counsultatiom_price(self, new_price):    \n",
    "        self.counsultatiom_price = new_price\n",
    "        \n",
    "    def return_data_cleaned(self):\n",
    "        return {\n",
    "            'name':self.name,\n",
    "            'gender':self.gender,\n",
    "            'adress':self.adress,\n",
    "            'counsultatiom_price':self.counsultatiom_price,\n",
    "            'number_consultations':self.number_consultations\n",
    "        }\n",
    "        \n",
    "    def has_consulted(self):\n",
    "        self.number_consultations += 1\n",
    "        \n",
    "dr_macron = Doctor(\n",
    "    registration_form = 'Mr Macron - birthdate 1981/07/26 - 18 rue de pont neuf 06008'\n",
    ")  \n",
    "dr_macron.data_extracting()\n",
    "dr_macron.set_counsultatiom_price(25)\n",
    "dr_macron.has_consulted\n",
    "dr_macron.return_data_cleaned()\n",
    "# dr_macron.registration_form\n",
    "# dr_macron.gender"
   ]
  },
  {
   "cell_type": "code",
   "execution_count": 219,
   "metadata": {},
   "outputs": [
    {
     "ename": "AttributeError",
     "evalue": "'Doctor' object has no attribute 'to_excel'",
     "output_type": "error",
     "traceback": [
      "\u001b[0;31m---------------------------------------------------------------------------\u001b[0m",
      "\u001b[0;31mAttributeError\u001b[0m                            Traceback (most recent call last)",
      "Cell \u001b[0;32mIn [219], line 1\u001b[0m\n\u001b[0;32m----> 1\u001b[0m \u001b[43mdr_macron\u001b[49m\u001b[38;5;241;43m.\u001b[39;49m\u001b[43mto_excel\u001b[49m(\u001b[38;5;124m'\u001b[39m\u001b[38;5;124mcleaned_data.xlsx\u001b[39m\u001b[38;5;124m'\u001b[39m, index \u001b[38;5;241m=\u001b[39m \u001b[38;5;28;01mFalse\u001b[39;00m)\n",
      "\u001b[0;31mAttributeError\u001b[0m: 'Doctor' object has no attribute 'to_excel'"
     ]
    }
   ],
   "source": [
    "dr_macron.to_excel('cleaned_data.xlsx', index = False)"
   ]
  },
  {
   "cell_type": "code",
   "execution_count": 216,
   "metadata": {},
   "outputs": [],
   "source": [
    "#TASK\n",
    "# create for busines works with class present numbers who see\n",
    "# at leats 5 client"
   ]
  },
  {
   "cell_type": "markdown",
   "metadata": {},
   "source": [
    "# Go Further"
   ]
  },
  {
   "cell_type": "markdown",
   "metadata": {},
   "source": [
    "https://leetcode.com/problemset/algorithms/"
   ]
  }
 ],
 "metadata": {
  "kernelspec": {
   "display_name": "Python 3 (ipykernel)",
   "language": "python",
   "name": "python3"
  },
  "language_info": {
   "codemirror_mode": {
    "name": "ipython",
    "version": 3
   },
   "file_extension": ".py",
   "mimetype": "text/x-python",
   "name": "python",
   "nbconvert_exporter": "python",
   "pygments_lexer": "ipython3",
   "version": "3.10.1"
  },
  "toc": {
   "base_numbering": 1,
   "nav_menu": {},
   "number_sections": true,
   "sideBar": true,
   "skip_h1_title": false,
   "title_cell": "Table of Contents",
   "title_sidebar": "Contents",
   "toc_cell": false,
   "toc_position": {},
   "toc_section_display": true,
   "toc_window_display": false
  }
 },
 "nbformat": 4,
 "nbformat_minor": 2
}
