{
 "cells": [
  {
   "cell_type": "markdown",
   "metadata": {},
   "source": [
    "https://pynative.com/python-basic-exercise-for-beginners/"
   ]
  },
  {
   "cell_type": "markdown",
   "metadata": {},
   "source": [
    "# Librairies"
   ]
  },
  {
   "cell_type": "code",
   "execution_count": 4,
   "metadata": {},
   "outputs": [],
   "source": [
    "import pandas as pd\n",
    "import numpy as np\n",
    "import datetime\n",
    "import random"
   ]
  },
  {
   "cell_type": "markdown",
   "metadata": {},
   "source": [
    "# Basic Exercices"
   ]
  },
  {
   "cell_type": "markdown",
   "metadata": {},
   "source": [
    "## Variable"
   ]
  },
  {
   "cell_type": "code",
   "execution_count": 1,
   "metadata": {},
   "outputs": [
    {
     "data": {
      "text/plain": [
       "False"
      ]
     },
     "execution_count": 1,
     "metadata": {},
     "output_type": "execute_result"
    }
   ],
   "source": [
    "# Change only x to make it True !\n",
    "x = 0\n",
    "y = 12\n",
    "\n",
    "x + y / 2 + 20 * -1 == 12 "
   ]
  },
  {
   "cell_type": "markdown",
   "metadata": {},
   "source": [
    "## Cast"
   ]
  },
  {
   "cell_type": "code",
   "execution_count": 128,
   "metadata": {},
   "outputs": [
    {
     "data": {
      "text/plain": [
       "'The number 10 scores'"
      ]
     },
     "execution_count": 128,
     "metadata": {},
     "output_type": "execute_result"
    }
   ],
   "source": [
    "# Write a sentance only with those variables\n",
    "\n",
    "string_1 = 'The number '\n",
    "int_1 = 10\n",
    "string_2 = ' scores'\n",
    "#output_str =\n",
    "\n",
    "## code ##\n",
    "\n",
    "output_str"
   ]
  },
  {
   "cell_type": "markdown",
   "metadata": {},
   "source": [
    "## Lists"
   ]
  },
  {
   "cell_type": "code",
   "execution_count": 129,
   "metadata": {},
   "outputs": [
    {
     "data": {
      "text/plain": [
       "10"
      ]
     },
     "execution_count": 129,
     "metadata": {},
     "output_type": "execute_result"
    }
   ],
   "source": [
    "# find the most high values\n",
    "\n",
    "my_list = [1, 2, 3, 10]\n",
    "#ouput = \n",
    "\n",
    "## code ##\n",
    "\n",
    "ouput"
   ]
  },
  {
   "cell_type": "markdown",
   "metadata": {},
   "source": [
    "## Strings"
   ]
  },
  {
   "cell_type": "code",
   "execution_count": 133,
   "metadata": {},
   "outputs": [
    {
     "data": {
      "text/plain": [
       "''"
      ]
     },
     "execution_count": 133,
     "metadata": {},
     "output_type": "execute_result"
    }
   ],
   "source": [
    "# Remove Vowels from a String\n",
    "input_str = 'candies are my best friends'\n",
    "output_str = ''\n",
    "    \n",
    "## code ##\n",
    "\n",
    "output_str"
   ]
  },
  {
   "cell_type": "markdown",
   "metadata": {},
   "source": [
    "## Datetime package"
   ]
  },
  {
   "cell_type": "code",
   "execution_count": 2,
   "metadata": {},
   "outputs": [
    {
     "ename": "NameError",
     "evalue": "name 'datetime' is not defined",
     "output_type": "error",
     "traceback": [
      "\u001b[0;31m---------------------------------------------------------------------------\u001b[0m",
      "\u001b[0;31mNameError\u001b[0m                                 Traceback (most recent call last)",
      "Input \u001b[0;32mIn [2]\u001b[0m, in \u001b[0;36m<cell line: 4>\u001b[0;34m()\u001b[0m\n\u001b[1;32m      1\u001b[0m \u001b[38;5;66;03m# Display \"NIGHT FEVER !\" if one of thoses dates is a Sunday else \"...\"\u001b[39;00m\n\u001b[1;32m      3\u001b[0m my_dates \u001b[38;5;241m=\u001b[39m [\n\u001b[0;32m----> 4\u001b[0m     \u001b[43mdatetime\u001b[49m\u001b[38;5;241m.\u001b[39mdatetime(\u001b[38;5;241m2020\u001b[39m, \u001b[38;5;241m1\u001b[39m, \u001b[38;5;241m1\u001b[39m),\n\u001b[1;32m      5\u001b[0m     datetime\u001b[38;5;241m.\u001b[39mdatetime(\u001b[38;5;241m2020\u001b[39m, \u001b[38;5;241m4\u001b[39m, \u001b[38;5;241m12\u001b[39m),\n\u001b[1;32m      6\u001b[0m     datetime\u001b[38;5;241m.\u001b[39mdatetime(\u001b[38;5;241m2020\u001b[39m, \u001b[38;5;241m3\u001b[39m, \u001b[38;5;241m9\u001b[39m),\n\u001b[1;32m      7\u001b[0m     datetime\u001b[38;5;241m.\u001b[39mdatetime(\u001b[38;5;241m2020\u001b[39m, \u001b[38;5;241m8\u001b[39m, \u001b[38;5;241m3\u001b[39m),\n\u001b[1;32m      8\u001b[0m ]\n",
      "\u001b[0;31mNameError\u001b[0m: name 'datetime' is not defined"
     ]
    }
   ],
   "source": [
    "# Display \"NIGHT FEVER !\" if one of thoses dates is a Sunday else \"...\"\n",
    "\n",
    "my_dates = [\n",
    "    datetime.datetime(2020, 1, 1),\n",
    "    datetime.datetime(2020, 4, 12),\n",
    "    datetime.datetime(2020, 3, 9),\n",
    "    datetime.datetime(2020, 8, 3),\n",
    "]"
   ]
  },
  {
   "cell_type": "markdown",
   "metadata": {},
   "source": [
    "## Dictionaries"
   ]
  },
  {
   "cell_type": "code",
   "execution_count": 135,
   "metadata": {},
   "outputs": [
    {
     "data": {
      "text/plain": [
       "{'Housem': 12, 'Alexandre': 9, 'Lucas': 11, 'Dani': 8}"
      ]
     },
     "execution_count": 135,
     "metadata": {},
     "output_type": "execute_result"
    }
   ],
   "source": [
    "input_dictionary = {\n",
    "    'Housem': 12,\n",
    "    'Alexandre': 9,\n",
    "    'Lucas': 11,\n",
    "    'Dani': 8,\n",
    "}\n",
    "\n",
    "input_dictionary"
   ]
  },
  {
   "cell_type": "code",
   "execution_count": 138,
   "metadata": {},
   "outputs": [
    {
     "data": {
      "text/plain": [
       "''"
      ]
     },
     "execution_count": 138,
     "metadata": {},
     "output_type": "execute_result"
    }
   ],
   "source": [
    "# How many candies those Kids have ?\n",
    "input_dictionary = {\n",
    "    'Housem': 10,\n",
    "    'Alexandre': 9,\n",
    "    'Lucas': 11,\n",
    "    'Dani': 8,\n",
    "}\n",
    "output_candies = \"\"\n",
    "\n",
    "## code ##\n",
    "\n",
    "output_candies"
   ]
  },
  {
   "cell_type": "markdown",
   "metadata": {},
   "source": [
    "## Functions"
   ]
  },
  {
   "cell_type": "code",
   "execution_count": 139,
   "metadata": {},
   "outputs": [
    {
     "data": {
      "text/plain": [
       "'Housem'"
      ]
     },
     "execution_count": 139,
     "metadata": {},
     "output_type": "execute_result"
    }
   ],
   "source": [
    "## Who has the most candies ?\n",
    "\n",
    "def get_kids_having_the_most_candies(input_dictionary):\n",
    "    return 0\n",
    "\n",
    "input_dictionary = {\n",
    "    'Housem': 12,\n",
    "    'Alexandre': 9,\n",
    "    'Lucas': 11,\n",
    "    'Dani': 8,\n",
    "}\n",
    "\n",
    "get_kids_having_the_most_candies(input_dictionary)"
   ]
  },
  {
   "cell_type": "code",
   "execution_count": 143,
   "metadata": {},
   "outputs": [
    {
     "data": {
      "text/plain": [
       "'Housem and Dani'"
      ]
     },
     "execution_count": 143,
     "metadata": {},
     "output_type": "execute_result"
    }
   ],
   "source": [
    "## Who has a pair number of candies ?\n",
    "\n",
    "def get_kids_having_pair_number_candies(input_dictionary):\n",
    "    return 0\n",
    "\n",
    "input_dictionary = {\n",
    "    'Housem': 12,\n",
    "    'Alexandre': 9,\n",
    "    'Lucas': 11,\n",
    "    'Dani': 8,\n",
    "}\n",
    "\n",
    "get_kids_having_pair_number_candies(input_dictionary)"
   ]
  },
  {
   "cell_type": "code",
   "execution_count": 145,
   "metadata": {},
   "outputs": [
    {
     "name": "stdout",
     "output_type": "stream",
     "text": [
      "Housem\n",
      "Lucas\n"
     ]
    }
   ],
   "source": [
    "## Who has too much candies ?\n",
    "\n",
    "def get_kids_having_too_much_candies(input_dictionary, too_much_value):\n",
    "    print('0')\n",
    "\n",
    "input_dictionary = {\n",
    "    'Housem': 10,\n",
    "    'Alexandre': 9,\n",
    "    'Lucas': 11,\n",
    "    'Dani': 8,\n",
    "}\n",
    "\n",
    "too_much_value = 9\n",
    "get_kids_having_too_much_candies(input_dictionary, too_much_value)"
   ]
  },
  {
   "cell_type": "code",
   "execution_count": 148,
   "metadata": {},
   "outputs": [],
   "source": [
    "# find the most recurrent element\n",
    "\n",
    "my_list = [1, 1, 3, 2, 7, 8, 10, 10, 10]\n",
    "random_list = [random.randint(0, 10) for i in range(10000)]"
   ]
  },
  {
   "cell_type": "markdown",
   "metadata": {},
   "source": [
    "## Classes"
   ]
  },
  {
   "cell_type": "code",
   "execution_count": 152,
   "metadata": {},
   "outputs": [],
   "source": [
    "######\n",
    "# Q1 #\n",
    "######\n",
    "# Create a class Physician with 4 attributes you could guess in functions of constructor\n",
    "# And two other attributes churned_date and number_consultations with default values None and 0\n",
    "# Use the object in order to display his name\n",
    "\n",
    "######\n",
    "# Q2 #\n",
    "######\n",
    "# Create 3 new physicians in your hospital (list)\n",
    "# Make them consult different (random) times\n",
    "# Create a function displaying the name of those who are 30 or younger\n",
    "\n",
    "######\n",
    "# Q3 #\n",
    "######\n",
    "# Create a method to return physician data\n",
    "# How much does your hopsital earns today ?\n",
    "\n",
    "class Physician():\n",
    "    def __init__(self, name, address, birth_date, consultation_price):\n",
    "        ###\n",
    "        ###\n",
    "        return 0\n",
    "\n",
    "    "
   ]
  },
  {
   "cell_type": "markdown",
   "metadata": {},
   "source": [
    "# First ETL"
   ]
  },
  {
   "cell_type": "code",
   "execution_count": 6,
   "metadata": {},
   "outputs": [],
   "source": [
    "# Create a Doctr constructor taking as argument a registration form with same template as\n",
    "# 'Mr Pierre - birthdate 1981/07/26 - 18 rue de pont neuf 06008'\n",
    "# And default attributes gender, name, birthdate, address, consultation_price, number_consultation\n",
    "# Create a data_extracting_method to assign for each argument data from registration_form\n",
    "# In data_extracting_method, set random consultation_price between 50 and 100 \n",
    "# Create a method has_just_consulted which increase by 1 the number_consultation attribute\n",
    "# Create a method return_data_cleaned which return a dictionnary of doctor attributes\n",
    "# Create 4 physicians and make them consult a random number of times\n",
    "# Use return_data_cleaned to create a hospital dataframe \n",
    "\n",
    "class Doctor():\n",
    "    def __init__(self, registration_form):\n",
    "        self.registration_form = registration_form\n",
    "        self.gender = None\n",
    "        #...\n",
    "    \n",
    "    def data_extracting(self, form):\n",
    "        #...\n",
    "        \n",
    "    def return_data_cleaned(self):\n",
    "        #...\n",
    "        \n",
    "    def has_just_consulted(self):\n",
    "        #..."
   ]
  },
  {
   "cell_type": "markdown",
   "metadata": {},
   "source": [
    "# Go Further"
   ]
  },
  {
   "cell_type": "markdown",
   "metadata": {},
   "source": [
    "https://leetcode.com/problemset/algorithms/"
   ]
  }
 ],
 "metadata": {
  "kernelspec": {
   "display_name": "Python 3 (ipykernel)",
   "language": "python",
   "name": "python3"
  },
  "language_info": {
   "codemirror_mode": {
    "name": "ipython",
    "version": 3
   },
   "file_extension": ".py",
   "mimetype": "text/x-python",
   "name": "python",
   "nbconvert_exporter": "python",
   "pygments_lexer": "ipython3",
   "version": "3.8.9"
  },
  "toc": {
   "base_numbering": 1,
   "nav_menu": {},
   "number_sections": true,
   "sideBar": true,
   "skip_h1_title": false,
   "title_cell": "Table of Contents",
   "title_sidebar": "Contents",
   "toc_cell": false,
   "toc_position": {},
   "toc_section_display": true,
   "toc_window_display": false
  }
 },
 "nbformat": 4,
 "nbformat_minor": 2
}
